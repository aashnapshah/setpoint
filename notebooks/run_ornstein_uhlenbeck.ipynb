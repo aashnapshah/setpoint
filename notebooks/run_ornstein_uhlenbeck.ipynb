{
 "cells": [
  {
   "cell_type": "code",
   "execution_count": 52,
   "metadata": {},
   "outputs": [
    {
     "name": "stdout",
     "output_type": "stream",
     "text": [
      "The autoreload extension is already loaded. To reload it, use:\n",
      "  %reload_ext autoreload\n"
     ]
    }
   ],
   "source": [
    "\n",
    "%matplotlib inline\n",
    "\n",
    "# autoload\n",
    "%load_ext autoreload\n",
    "%autoreload 2\n",
    "\n",
    "import sys\n",
    "import pandas as pd\n",
    "# append path\n",
    "sys.path.append('../')\n",
    "from scipy.special import logit\n",
    "\n",
    "sys.path.append('../../')\n",
    "from process.tables import *\n",
    "from models.bayes import *\n",
    "from models.predict import *\n",
    "from process.config import *\n",
    "from process.measurements import cutoff_measurements_df\n",
    "\n",
    "import numpy as np\n",
    "import matplotlib.pyplot as plt\n",
    "from scipy.stats import norm\n",
    "from scipy.optimize import minimize\n"
   ]
  },
  {
   "cell_type": "code",
   "execution_count": null,
   "metadata": {},
   "outputs": [
    {
     "name": "stderr",
     "output_type": "stream",
     "text": [
      "Filtering Sequences:  96%|█████████▌| 146384/152269 [00:40<00:01, 3596.24it/s]\n"
     ]
    }
   ],
   "source": [
    "measurements = pd.read_csv('../data/processed/all_lab_measurements.csv')\n",
    "measurements['sex'] = measurements['gender_concept_id'].map({1: 'male', 0: 'female'})\n",
    "processed_df = cutoff_measurements_df(measurements, percent=0.8, min_tests=5)\n",
    "processed_df = processed_df.replace([np.inf, -np.inf], np.nan).dropna()\n",
    "\n",
    "def get_priors_dict():\n",
    "    priors = {\n",
    "    (test, sex): {\n",
    "        'mean': (low + high) / 2,\n",
    "        'var': ((high - low) / 4)**2\n",
    "    }\n",
    "    for test, intervals in REFERENCE_INTERVALS.items()\n",
    "        for sex, (low, high, _) in intervals.items()\n",
    "    }\n",
    "    return priors\n"
   ]
  },
  {
   "cell_type": "code",
   "execution_count": 57,
   "metadata": {},
   "outputs": [
    {
     "name": "stderr",
     "output_type": "stream",
     "text": [
      "  0%|          | 0/153 [00:00<?, ?it/s]\n"
     ]
    },
    {
     "ename": "KeyError",
     "evalue": "('BUN', 'male')",
     "output_type": "error",
     "traceback": [
      "\u001b[0;31m---------------------------------------------------------------------------\u001b[0m",
      "\u001b[0;31mKeyError\u001b[0m                                  Traceback (most recent call last)",
      "Cell \u001b[0;32mIn[57], line 44\u001b[0m\n\u001b[1;32m     41\u001b[0m     \u001b[38;5;28;01mreturn\u001b[39;00m results_df\n\u001b[1;32m     43\u001b[0m sample_subjects \u001b[38;5;241m=\u001b[39m processed_df\u001b[38;5;241m.\u001b[39msubject_id\u001b[38;5;241m.\u001b[39munique()[:\u001b[38;5;241m10\u001b[39m]\n\u001b[0;32m---> 44\u001b[0m results_df \u001b[38;5;241m=\u001b[39m \u001b[43mrun_ou_with_prior\u001b[49m\u001b[43m(\u001b[49m\u001b[43mprocessed_df\u001b[49m\u001b[38;5;241;43m.\u001b[39;49m\u001b[43mquery\u001b[49m\u001b[43m(\u001b[49m\u001b[38;5;124;43m'\u001b[39;49m\u001b[38;5;124;43msubject_id in @sample_subjects\u001b[39;49m\u001b[38;5;124;43m'\u001b[39;49m\u001b[43m)\u001b[49m\u001b[43m)\u001b[49m\n",
      "Cell \u001b[0;32mIn[57], line 12\u001b[0m, in \u001b[0;36mrun_ou_with_prior\u001b[0;34m(processed_df)\u001b[0m\n\u001b[1;32m     10\u001b[0m sample \u001b[38;5;241m=\u001b[39m group[[\u001b[38;5;124m'\u001b[39m\u001b[38;5;124mtime\u001b[39m\u001b[38;5;124m'\u001b[39m, \u001b[38;5;124m'\u001b[39m\u001b[38;5;124mnumeric_value\u001b[39m\u001b[38;5;124m'\u001b[39m, \u001b[38;5;124m'\u001b[39m\u001b[38;5;124msex\u001b[39m\u001b[38;5;124m'\u001b[39m]]\n\u001b[1;32m     11\u001b[0m sex \u001b[38;5;241m=\u001b[39m sample[\u001b[38;5;124m'\u001b[39m\u001b[38;5;124msex\u001b[39m\u001b[38;5;124m'\u001b[39m]\u001b[38;5;241m.\u001b[39munique()[\u001b[38;5;241m0\u001b[39m]\n\u001b[0;32m---> 12\u001b[0m prior_mean, prior_var \u001b[38;5;241m=\u001b[39m \u001b[43mpriors\u001b[49m\u001b[43m[\u001b[49m\u001b[43m(\u001b[49m\u001b[43mtest_name\u001b[49m\u001b[43m,\u001b[49m\u001b[43m \u001b[49m\u001b[43msex\u001b[49m\u001b[43m)\u001b[49m\u001b[43m]\u001b[49m[\u001b[38;5;124m'\u001b[39m\u001b[38;5;124mmean\u001b[39m\u001b[38;5;124m'\u001b[39m], priors[(test_name, sex)][\u001b[38;5;124m'\u001b[39m\u001b[38;5;124mvar\u001b[39m\u001b[38;5;124m'\u001b[39m] \u001b[38;5;241m/\u001b[39m \u001b[38;5;241m4\u001b[39m\n\u001b[1;32m     13\u001b[0m prior_sigma_mean \u001b[38;5;241m=\u001b[39m np\u001b[38;5;241m.\u001b[39msqrt(prior_var) \n\u001b[1;32m     14\u001b[0m prior_sigma_var \u001b[38;5;241m=\u001b[39m \u001b[38;5;241m0.2\u001b[39m   \u001b[38;5;66;03m# log-variance of sigma (log-normal prior)\u001b[39;00m\n",
      "\u001b[0;31mKeyError\u001b[0m: ('BUN', 'male')"
     ]
    }
   ],
   "source": [
    "from models.ornstein_uhlenbeck import run_ou_with_prior\n",
    "from models.ornstein_uhlenbeck import estimate_ou_parameters_with_prior\n",
    "\n",
    "def run_ou_with_prior(processed_df):\n",
    "    groups = processed_df.groupby(['subject_id', 'test_name'])\n",
    "    priors = get_priors_dict()\n",
    "    results = []\n",
    "    \n",
    "    for (subject, test_name), group in tqdm(groups):\n",
    "        sample = group[['time', 'numeric_value', 'sex']]\n",
    "        sex = sample['sex'].unique()[0]\n",
    "        prior_mean, prior_var = priors[(test_name, sex)]['mean'], priors[(test_name, sex)]['var'] / 4\n",
    "        prior_sigma_mean = np.sqrt(prior_var) \n",
    "        prior_sigma_var = 0.2   # log-variance of sigma (log-normal prior)\n",
    "        \n",
    "        df = sample.copy()\n",
    "        df['time'] = pd.to_datetime(df['time'])\n",
    "        df = df.sort_values('time')\n",
    "        df['dt'] = df['time'].diff().dt.total_seconds().div(86400)\n",
    "        df = df.dropna()\n",
    "        \n",
    "        S = df['numeric_value'].values\n",
    "        dt = df['dt'].mean()\n",
    "        \n",
    "        theta_ml, mu_ml, sigma_ml = estimate_ou_parameters_with_prior(S, dt, prior_mean, prior_var, prior_sigma_mean, prior_sigma_var)\n",
    "        \n",
    "        results.append({\n",
    "            'subject_id': subject,\n",
    "            'test_name': test_name,\n",
    "            'sex': sex,\n",
    "            'ou_prior_mean': prior_mean,\n",
    "            'ou_prior_var': prior_var,\n",
    "            'ou_prior_sigma_mean': prior_sigma_mean,\n",
    "            'ou_prior_sigma_var': prior_sigma_var,\n",
    "            'ou_mean': theta_ml,\n",
    "            'ou_speed': mu_ml,\n",
    "            'ou_std': sigma_ml\n",
    "        })\n",
    "    \n",
    "    results_df = pd.DataFrame(results)\n",
    "    return results_df\n",
    "\n",
    "sample_subjects = processed_df.subject_id.unique()[:10]\n",
    "results_df = run_ou_with_prior(processed_df.query('subject_id in @sample_subjects'))\n"
   ]
  },
  {
   "cell_type": "code",
   "execution_count": null,
   "metadata": {},
   "outputs": [
    {
     "name": "stdout",
     "output_type": "stream",
     "text": [
      "[115967111 115967113 115967114 115967115 115967116]\n",
      "         subject_id                time           code  numeric_value  \\\n",
      "2114664   115967111 2014-10-25 20:55:00   LOINC/4544-3           38.7   \n",
      "2114674   115967111 2014-10-25 20:58:00  LOINC/20570-8           38.0   \n",
      "2114685   115967111 2014-10-26 02:30:00   LOINC/4544-3           28.0   \n",
      "2114704   115967111 2014-10-26 10:00:00   LOINC/4544-3           28.5   \n",
      "2114722   115967111 2014-10-26 15:25:00   LOINC/4544-3           31.0   \n",
      "\n",
      "         care_site_id      clarity_table  end  note_id  provider_id  \\\n",
      "2114664           NaN  shc_order_results  NaN      NaN    6767342.0   \n",
      "2114674           NaN  shc_order_results  NaN      NaN    6808394.0   \n",
      "2114685           NaN  shc_order_results  NaN      NaN    6811155.0   \n",
      "2114704           NaN  shc_order_results  NaN      NaN    6811155.0   \n",
      "2114722           NaN  shc_order_results  NaN      NaN    6811155.0   \n",
      "\n",
      "               table  text_value unit    visit_id test_name birth_DATETIME  \\\n",
      "2114664  measurement         NaN    %  66055973.0       HCT     1959-03-10   \n",
      "2114674  measurement         NaN    %  66055973.0       HCT     1959-03-10   \n",
      "2114685  measurement         NaN    %  66055973.0       HCT     1959-03-10   \n",
      "2114704  measurement         NaN    %  66055973.0       HCT     1959-03-10   \n",
      "2114722  measurement         NaN    %  66055973.0       HCT     1959-03-10   \n",
      "\n",
      "               age  gender_concept_id     sex  \n",
      "2114664  55.627652                  0  female  \n",
      "2114674  55.627652                  0  female  \n",
      "2114685  55.630390                  0  female  \n",
      "2114704  55.630390                  0  female  \n",
      "2114722  55.630390                  0  female  \n"
     ]
    },
    {
     "ename": "KeyError",
     "evalue": "('HCT', 'female')",
     "output_type": "error",
     "traceback": [
      "\u001b[0;31m---------------------------------------------------------------------------\u001b[0m",
      "\u001b[0;31mKeyError\u001b[0m                                  Traceback (most recent call last)",
      "Cell \u001b[0;32mIn[55], line 51\u001b[0m\n\u001b[1;32m     47\u001b[0m     prior_var \u001b[38;5;241m=\u001b[39m sample[\u001b[38;5;124m'\u001b[39m\u001b[38;5;124mnumeric_value\u001b[39m\u001b[38;5;124m'\u001b[39m]\u001b[38;5;241m.\u001b[39mvar()\n\u001b[1;32m     50\u001b[0m \u001b[38;5;66;03m# Set sigma prior based on data variability\u001b[39;00m\n\u001b[0;32m---> 51\u001b[0m prior_sigma_mean \u001b[38;5;241m=\u001b[39m np\u001b[38;5;241m.\u001b[39msqrt(\u001b[43mpriors\u001b[49m\u001b[43m[\u001b[49m\u001b[43m(\u001b[49m\u001b[43mtest_name\u001b[49m\u001b[43m,\u001b[49m\u001b[43m \u001b[49m\u001b[43msex\u001b[49m\u001b[43m)\u001b[49m\u001b[43m]\u001b[49m[\u001b[38;5;124m'\u001b[39m\u001b[38;5;124mvar\u001b[39m\u001b[38;5;124m'\u001b[39m])\n\u001b[1;32m     52\u001b[0m prior_sigma_var \u001b[38;5;241m=\u001b[39m \u001b[38;5;241m0.1\u001b[39m  \u001b[38;5;66;03m# More reasonable log-variance\u001b[39;00m\n\u001b[1;32m     55\u001b[0m df \u001b[38;5;241m=\u001b[39m sample\u001b[38;5;241m.\u001b[39mcopy()\n",
      "\u001b[0;31mKeyError\u001b[0m: ('HCT', 'female')"
     ]
    }
   ],
   "source": [
    "\n",
    "subject = 115969474\n",
    "test_name = 'HCT'\n",
    "subjects = processed_df.query('test_name == @test_name')['subject_id'].unique()[10:15]\n",
    "print(subjects)\n",
    "# for subject in subjects:\n",
    "#     sample = processed_df.query('subject_id == @subject and test_name == @test_name')[['time', 'numeric_value', 'sex']]\n",
    "\n",
    "#     prior_mean = 42.0  # theta prior mean\n",
    "#     prior_var = 2.5 # theta prior variance\n",
    "#     prior_sigma_mean = 2.5\n",
    "#     prior_sigma_var = 0.2  # log-variance of sigma (log-normal prior)\n",
    "\n",
    "#     # can you ignore points not in the range?\n",
    "#     # filtered_df = sample['numeric_value'].between(prior_mean - 3 * prior_sigma_mean, prior_mean + 3 * prior_sigma_mean)\n",
    "#     # sample = sample[filtered_df]\n",
    "#     df = sample.copy()\n",
    "#     df['time'] = pd.to_datetime(df['time'])\n",
    "#     df = df.sort_values('time')\n",
    "#     df['dt'] = df['time'].diff().dt.total_seconds().div(86400)\n",
    "#     df = df.dropna()\n",
    "\n",
    "#     S = df['numeric_value'].values\n",
    "#     dt = df['dt'].mean()\n",
    "#     #dt = df['dt'].mean() / 365.25\n",
    "    \n",
    "#     print(dt)\n",
    "#     # Estimate parameters\n",
    "#     theta_ml, mu_ml, sigma_ml = estimate_ou_parameters_with_prior(\n",
    "#         S, dt, prior_mean, prior_var, prior_sigma_mean, prior_sigma_var\n",
    "#     )\n",
    "priors = get_priors_dict()\n",
    "for subject in subjects:\n",
    "    sample = processed_df.query('subject_id == @subject and test_name == @test_name') #[['time', 'numeric_value', 'sex']]\n",
    "    print(sample.head())\n",
    "    sample = sample[['time', 'numeric_value', 'sex']]\n",
    "    sex = sample['sex'].unique()[0]\n",
    "    \n",
    "    # only use points in the range\n",
    "    \n",
    "    # Get priors properly\n",
    "    if (test_name, sex) in priors:\n",
    "        prior_mean = priors[(test_name, sex)]['mean']\n",
    "        prior_var = priors[(test_name, sex)]['var']\n",
    "    else:\n",
    "        # Fallback if test/sex combination not found\n",
    "        prior_mean = sample['numeric_value'].mean()\n",
    "        prior_var = sample['numeric_value'].var()\n",
    "\n",
    "    \n",
    "    # Set sigma prior based on data variability\n",
    "    prior_sigma_mean = np.sqrt(priors[(test_name, sex)]['var'])\n",
    "    prior_sigma_var = 0.1  # More reasonable log-variance\n",
    "        \n",
    "\n",
    "    df = sample.copy()\n",
    "    df['time'] = pd.to_datetime(df['time'])\n",
    "    df = df.sort_values('time')\n",
    "    df['dt'] = df['time'].diff().dt.total_seconds().div(86400)\n",
    "    \n",
    "    df = df.dropna()\n",
    "    \n",
    "    if len(df) < 2:  # Need at least 2 points for OU\n",
    "        continue\n",
    "        \n",
    "    S = df['numeric_value'].values\n",
    "    dt = df['dt'].mean()\n",
    "    #dt = df['dt'].mean() / 365.25\n",
    "    \n",
    "    theta_ml, mu_ml, sigma_ml = estimate_ou_parameters_with_prior(\n",
    "        S, dt, prior_mean, prior_var, prior_sigma_mean, prior_sigma_var\n",
    "    )\n",
    "        \n",
    "    # Plot results\n",
    "    plt.figure(figsize=(12, 3))\n",
    "    plt.scatter(sample['time'], sample['numeric_value'], color='blue', alpha=0.7, label='Observed HCT')\n",
    "\n",
    "    std_dev = prior_sigma_mean\n",
    "    confidence_interval = 2 * std_dev\n",
    "\n",
    "    plt.axhline(prior_mean, color='red', linestyle='--', alpha=0.7, label=f'Population: {prior_mean:.1f}%')\n",
    "    plt.fill_between(sample['time'], prior_mean - confidence_interval, prior_mean + confidence_interval,\n",
    "                     color='red', alpha=0.2, label='Population 95% CI')\n",
    "\n",
    "    ou_std_dev = sigma_ml / np.sqrt(2 * mu_ml)\n",
    "\n",
    "    plt.axhline(theta_ml, color='green', linestyle='--', alpha=0.7, label=f'OU θ (estimated): {theta_ml:.2f}%')\n",
    "    plt.fill_between(sample['time'], theta_ml - 2 * ou_std_dev, theta_ml + 2 * ou_std_dev,\n",
    "                     color='green', alpha=0.2, label='OU 95% CI')\n",
    "\n",
    "    plt.title(f'HCT OU Process Fit for Patient {subject}')\n",
    "    plt.xlabel('Time')\n",
    "    plt.ylabel('HCT (%)')\n",
    "    plt.legend(loc='lower right', fontsize=10)\n",
    "    plt.grid(True, alpha=0.3)\n",
    "    plt.tight_layout()\n",
    "    plt.show()\n",
    "\n",
    "    print(\"   'HCT': {'F': (37, 47, '%'), 'M': (42, 50, '%')},  \")\n",
    "    print(f\"\\nComparison for subject {subject}:\")\n",
    "    print(f\"Prior θ mean: {prior_mean:.1f}%\")\n",
    "    print(f\"Prior σ mean: {prior_sigma_mean:.1f}%\")\n",
    "    print(f\"Estimated θ (OU): {theta_ml:.2f}%\")\n",
    "    print(f\"Estimated μ (OU): {mu_ml:.4f}\")\n",
    "    print(f\"Estimated σ (OU): {sigma_ml:.2f}%\")\n",
    "    print(f\"Difference from prior θ: {theta_ml - prior_mean:.2f}%\")\n",
    "    print(f\"Difference from prior σ: {sigma_ml - prior_sigma_mean:.2f}%\")\n"
   ]
  },
  {
   "cell_type": "code",
   "execution_count": 43,
   "metadata": {},
   "outputs": [
    {
     "name": "stdout",
     "output_type": "stream",
     "text": [
      "                       time  numeric_value\n",
      "3635697 2008-10-08 01:11:00           28.7\n",
      "3635716 2008-10-08 08:10:00           28.0\n",
      "3635725 2008-10-08 18:45:00           32.3\n",
      "3635735 2008-10-08 23:20:00           30.1\n",
      "3635752 2008-10-09 05:05:00           29.5\n",
      "3635761 2008-10-09 19:30:00           36.2\n",
      "3635779 2008-10-10 06:05:00           35.5\n",
      "3635796 2008-10-11 06:40:00           36.6\n",
      "3635813 2008-10-12 06:20:00           33.0\n",
      "3635830 2008-10-13 06:56:00           35.7\n"
     ]
    }
   ],
   "source": [
    "subject = processed_df.query('test_name == @test_name')['subject_id'].unique()[:1]\n",
    "sample = processed_df.query('subject_id == @subject and test_name == @test_name')[['time', 'numeric_value']]\n",
    "print(sample)"
   ]
  },
  {
   "cell_type": "code",
   "execution_count": null,
   "metadata": {},
   "outputs": [],
   "source": []
  },
  {
   "cell_type": "code",
   "execution_count": null,
   "metadata": {},
   "outputs": [],
   "source": []
  }
 ],
 "metadata": {
  "kernelspec": {
   "display_name": "labs_env",
   "language": "python",
   "name": "python3"
  },
  "language_info": {
   "codemirror_mode": {
    "name": "ipython",
    "version": 3
   },
   "file_extension": ".py",
   "mimetype": "text/x-python",
   "name": "python",
   "nbconvert_exporter": "python",
   "pygments_lexer": "ipython3",
   "version": "3.10.18"
  }
 },
 "nbformat": 4,
 "nbformat_minor": 2
}
