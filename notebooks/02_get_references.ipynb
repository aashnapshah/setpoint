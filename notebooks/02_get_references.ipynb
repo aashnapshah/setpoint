{
 "cells": [
  {
   "cell_type": "code",
   "execution_count": 7,
   "metadata": {},
   "outputs": [],
   "source": [
    "# --- CONFIGURATION ---\n",
    "\n",
    "PROCESSING_METHOD = 'cutoff'         # Options: 'cutoff' or 'index_year'\n",
    "CUTOFF = 0.8                         # Only used if PROCESSING_METHOD='cutoff'\n",
    "MIN_LABS = 5\n",
    "YEAR_INDEX = 2016                   # Only used if PROCESSING_METHOD='index_year'\n",
    "MIN_GAP = 30\n",
    "\n",
    "SMOOTH_FRAC = 0.7\n",
    "TEST_TO_PLOT = 'RBC'\n",
    "\n",
    "# Auto-naming tag\n",
    "method_tag = (\n",
    "    f\"cutoff_{CUTOFF}_min_{MIN_LABS}\" if PROCESSING_METHOD == \"cutoff\" else\n",
    "    f\"index_{YEAR_INDEX}_gap_{MIN_GAP}_min_{MIN_LABS}\"\n",
    ")"
   ]
  },
  {
   "cell_type": "code",
   "execution_count": 11,
   "metadata": {},
   "outputs": [
    {
     "name": "stdout",
     "output_type": "stream",
     "text": [
      "The autoreload extension is already loaded. To reload it, use:\n",
      "  %reload_ext autoreload\n"
     ]
    }
   ],
   "source": [
    "%load_ext autoreload\n",
    "%autoreload 2\n",
    "\n",
    "import sys\n",
    "import pandas as pd\n",
    "import warnings\n",
    "\n",
    "sys.path.append('../')\n",
    "warnings.filterwarnings('ignore')\n",
    "\n",
    "from models.setpoints import *\n",
    "from models.bayes import *\n",
    "from models.smooth import *\n",
    "from process.config import *\n",
    "from process.measurements import *\n",
    "from models.ornstein_uhlenbeck import *\n",
    "\n",
    "# Load raw measurements\n",
    "cols = ['subject_id', 'time', 'test_name', 'numeric_value', 'gender_concept_id', 'age']\n",
    "measurements = pd.read_csv('../data/processed/all_lab_measurements.csv')[cols]\n",
    "measurements['sex'] = measurements['gender_concept_id'].map(lambda x: 'M' if x == 0 else 'F')\n",
    "measurements = measurements.sort_values(by=['subject_id', 'test_name', 'time'])\n"
   ]
  },
  {
   "cell_type": "markdown",
   "metadata": {},
   "source": [
    "# Process Measurements"
   ]
  },
  {
   "cell_type": "code",
   "execution_count": 12,
   "metadata": {},
   "outputs": [
    {
     "name": "stdout",
     "output_type": "stream",
     "text": [
      "Processing using cutoff method\n"
     ]
    },
    {
     "name": "stderr",
     "output_type": "stream",
     "text": [
      "Filtering Sequences:  96%|█████████▌| 146384/152269 [01:18<00:03, 1854.61it/s]\n"
     ]
    },
    {
     "name": "stdout",
     "output_type": "stream",
     "text": [
      "Number of unique subjects: 3907\n"
     ]
    },
    {
     "name": "stderr",
     "output_type": "stream",
     "text": [
      "100%|██████████| 72925/72925 [26:06<00:00, 46.56it/s]  \n"
     ]
    },
    {
     "name": "stdout",
     "output_type": "stream",
     "text": [
      "Results saved to ../results/ou/ou_method:cutoff_percent:0.8_min_tests:5.csv\n"
     ]
    }
   ],
   "source": [
    "def get_test_data(measurements_df, sample_size=None):\n",
    "    \"\"\"Get subset of data for testing\"\"\"\n",
    "    measurements_df = measurements_df.copy()\n",
    "    if sample_size != None:\n",
    "        test_patients = np.random.choice(\n",
    "            measurements_df['subject_id'].unique(), \n",
    "            size=sample_size, \n",
    "            replace=False\n",
    "        )\n",
    "        measurements_df = measurements_df[measurements_df['subject_id'].isin(test_patients)]\n",
    "        print(f\"Running with {len(test_patients)} sample patients\")\n",
    "    return measurements_df\n",
    "\n",
    "def process_measurements(df, params):\n",
    "    # can u do the pop and then the if statement?\n",
    "    params = params.copy()\n",
    "    method = params.pop('method')\n",
    "    \n",
    "    processors = {\n",
    "        'cutoff': cutoff_measurements_df,\n",
    "        'index': filter_measurements_yash,\n",
    "        'index_foy': filter_measurements_foy,\n",
    "    }\n",
    "    \n",
    "    if method not in processors:\n",
    "        raise ValueError(f\"Unknown processing method: {method}\")\n",
    "    \n",
    "    return processors[method](df, **params)\n",
    "\n",
    "def save_results(df, output_path, method, params):\n",
    "    \n",
    "    tag = '_'.join(f\"{k}:{v}\" for k,v in params.items())\n",
    "    path = f'{output_path}/{method}/{method}_{tag}.csv'\n",
    "    os.makedirs(f'{output_path}/{method}', exist_ok=True)\n",
    "    df.to_csv(path, index=False)\n",
    "    print(f\"Results saved to {path}\")\n",
    "\n",
    "configs = [\n",
    "    {\n",
    "        'method': 'cutoff',\n",
    "        'percent': 0.8,\n",
    "        'min_tests': 5\n",
    "    },\n",
    "   Index year method configs\n",
    "    {\n",
    "        'method': 'index',\n",
    "        'index_year': 2016,\n",
    "        'min_gap': 30,\n",
    "        'min_tests': 5\n",
    "    },\n",
    "    {\n",
    "        'method': 'index_foy',\n",
    "        'index_year': 2016,\n",
    "        'min_gap': 30,\n",
    "        'min_tests': 5\n",
    "    }\n",
    "]\n",
    "\n",
    "sample = None  \n",
    "df = get_test_data(measurements, sample_size=sample)\n",
    "output_path = '../results'\n",
    "\n",
    "for parameters in configs:\n",
    "    print('Processing using', parameters['method'], 'method')\n",
    "   # processed_df = process_measurements(df, parameters)\n",
    "    unique_subjects = processed_df['subject_id'].nunique()\n",
    "    unique_tests = processed_df['test_name'].nunique()\n",
    "    \n",
    "    print(f\"Number of unique subjects: {unique_subjects}\")\n",
    "   \n",
    "    #setpoint_df = run_gmm_model(processed_df)    \n",
    "    #smoothed_df = run_lowess_model(processed_df, smooth_frac=0.7)\n",
    "    #bayes_df = run_pEB_model(processed_df, prior_method='reference')\n",
    "    ou_df = run_ou_with_prior(processed_df)\n",
    "    \n",
    "    if not sample:\n",
    "       # save_results(setpoint_df, output_path, 'setpoints', parameters)\n",
    "       # save_results(smoothed_df, output_path, 'smoothed', parameters)\n",
    "        #save_results(bayes_df, output_path, 'bayes', parameters)\n",
    "        \n",
    "        save_results(ou_df, output_path, 'ou', parameters)\n",
    "    "
   ]
  },
  {
   "cell_type": "code",
   "execution_count": null,
   "metadata": {},
   "outputs": [
    {
     "name": "stdout",
     "output_type": "stream",
     "text": [
      "Number of unique subjects: 3907\n"
     ]
    },
    {
     "name": "stderr",
     "output_type": "stream",
     "text": [
      "  1%|          | 588/72925 [00:10<39:39, 30.40it/s] "
     ]
    }
   ],
   "source": [
    "unique_subjects = processed_df['subject_id'].nunique()\n",
    "unique_tests = processed_df['test_name'].nunique()\n",
    "\n",
    "print(f\"Number of unique subjects: {unique_subjects}\")\n",
    "\n",
    "#setpoint_df = run_gmm_model(processed_df)    \n",
    "#smoothed_df = run_lowess_model(processed_df, smooth_frac=0.7)\n",
    "#bayes_df = run_pEB_model(processed_df, prior_method='reference')\n",
    "ou_df = run_ou_with_prior(processed_df)\n",
    "\n",
    "if not sample:\n",
    "    # save_results(setpoint_df, output_path, 'setpoints', parameters)\n",
    "    # save_results(smoothed_df, output_path, 'smoothed', parameters)\n",
    "    #save_results(bayes_df, output_path, 'bayes', parameters)\n",
    "    \n",
    "    save_results(ou_df, output_path, 'ou', parameters)\n"
   ]
  },
  {
   "cell_type": "code",
   "execution_count": null,
   "metadata": {},
   "outputs": [],
   "source": []
  }
 ],
 "metadata": {
  "kernelspec": {
   "display_name": "Python 3",
   "language": "python",
   "name": "python3"
  },
  "language_info": {
   "codemirror_mode": {
    "name": "ipython",
    "version": 3
   },
   "file_extension": ".py",
   "mimetype": "text/x-python",
   "name": "python",
   "nbconvert_exporter": "python",
   "pygments_lexer": "ipython3",
   "version": "3.13.2"
  }
 },
 "nbformat": 4,
 "nbformat_minor": 2
}
