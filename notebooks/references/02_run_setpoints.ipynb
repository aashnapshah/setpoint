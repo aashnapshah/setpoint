{
 "cells": [
  {
   "cell_type": "code",
   "execution_count": 1,
   "metadata": {},
   "outputs": [],
   "source": [
    "%load_ext autoreload\n",
    "%autoreload 2\n",
    "\n",
    "import sys\n",
    "sys.path.append('../')\n",
    "\n",
    "import warnings\n",
    "warnings.filterwarnings('ignore')\n",
    "\n",
    "from models.setpoints import *\n",
    "from process.config import *\n",
    "from process.measurements import *\n",
    "from models.predict import *"
   ]
  },
  {
   "cell_type": "code",
   "execution_count": 2,
   "metadata": {},
   "outputs": [],
   "source": [
    "cols = ['subject_id', 'time', 'test_name', 'numeric_value', 'gender_concept_id', 'age']\n",
    "measurements = pd.read_csv('../data/processed/all_lab_measurements.csv')[cols].sort_values(by=['subject_id', 'test_name', 'time'])\n",
    "measurements['sex'] = measurements['gender_concept_id'].map(lambda x: 'M' if x == 0 else 'F')\n"
   ]
  },
  {
   "cell_type": "code",
   "execution_count": 3,
   "metadata": {},
   "outputs": [],
   "source": [
    "cutoff=0.8\n",
    "min_gap=30 \n",
    "min_labs=5\n",
    "                                       \n",
    "processed_df = cutoff_measurements_df(measurements, \n",
    "                                            percent_cutoff=cutoff,\n",
    "                                            min_pre_tests=min_labs)"
   ]
  },
  {
   "cell_type": "code",
   "execution_count": 6,
   "metadata": {},
   "outputs": [
    {
     "ename": "TypeError",
     "evalue": "cutoff_measurements_df() got an unexpected keyword argument 'percent_cutoff'",
     "output_type": "error",
     "traceback": [
      "\u001b[31m---------------------------------------------------------------------------\u001b[39m",
      "\u001b[31mTypeError\u001b[39m                                 Traceback (most recent call last)",
      "\u001b[36mCell\u001b[39m\u001b[36m \u001b[39m\u001b[32mIn[6]\u001b[39m\u001b[32m, line 24\u001b[39m\n\u001b[32m     21\u001b[39m     \u001b[38;5;28;01mreturn\u001b[39;00m setpoint_df\n\u001b[32m     23\u001b[39m \u001b[38;5;66;03m# Calculate setpoints using cutoff method\u001b[39;00m\n\u001b[32m---> \u001b[39m\u001b[32m24\u001b[39m setpoint_df_cutoff = \u001b[43mcalculate_setpoints\u001b[49m\u001b[43m(\u001b[49m\u001b[43mmeasurements\u001b[49m\u001b[43m,\u001b[49m\u001b[43m \u001b[49m\n\u001b[32m     25\u001b[39m \u001b[43m                                       \u001b[49m\u001b[43mmethod\u001b[49m\u001b[43m=\u001b[49m\u001b[33;43m'\u001b[39;49m\u001b[33;43mcutoff\u001b[39;49m\u001b[33;43m'\u001b[39;49m\u001b[43m,\u001b[49m\n\u001b[32m     26\u001b[39m \u001b[43m                                       \u001b[49m\u001b[43mcutoff\u001b[49m\u001b[43m=\u001b[49m\u001b[32;43m0.8\u001b[39;49m\u001b[43m,\u001b[49m\n\u001b[32m     27\u001b[39m \u001b[43m                                       \u001b[49m\u001b[43mmin_gap\u001b[49m\u001b[43m=\u001b[49m\u001b[32;43m30\u001b[39;49m\u001b[43m,\u001b[49m\u001b[43m \u001b[49m\n\u001b[32m     28\u001b[39m \u001b[43m                                       \u001b[49m\u001b[43mmin_labs\u001b[49m\u001b[43m=\u001b[49m\u001b[32;43m5\u001b[39;49m\u001b[43m)\u001b[49m\n\u001b[32m     30\u001b[39m \u001b[38;5;66;03m# # Calculate setpoints using index year method \u001b[39;00m\n\u001b[32m     31\u001b[39m \u001b[38;5;66;03m# setpoint_df_2018 = calculate_setpoints(measurements,\u001b[39;00m\n\u001b[32m     32\u001b[39m \u001b[38;5;66;03m#                                      method='index_year',\u001b[39;00m\n\u001b[32m     33\u001b[39m \u001b[38;5;66;03m#                                      index_year=2018,\u001b[39;00m\n\u001b[32m     34\u001b[39m \u001b[38;5;66;03m#                                      min_gap=30,\u001b[39;00m\n\u001b[32m     35\u001b[39m \u001b[38;5;66;03m#                                      min_labs=5)\u001b[39;00m\n",
      "\u001b[36mCell\u001b[39m\u001b[36m \u001b[39m\u001b[32mIn[6]\u001b[39m\u001b[32m, line 13\u001b[39m, in \u001b[36mcalculate_setpoints\u001b[39m\u001b[34m(measurements, method, cutoff, index_year, min_gap, min_labs)\u001b[39m\n\u001b[32m     11\u001b[39m     method_str = \u001b[33mf\u001b[39m\u001b[33m'\u001b[39m\u001b[33mindex:\u001b[39m\u001b[38;5;132;01m{\u001b[39;00mindex_year\u001b[38;5;132;01m}\u001b[39;00m\u001b[33m_gap:\u001b[39m\u001b[38;5;132;01m{\u001b[39;00mmin_gap\u001b[38;5;132;01m}\u001b[39;00m\u001b[33m_labs:\u001b[39m\u001b[38;5;132;01m{\u001b[39;00mmin_labs\u001b[38;5;132;01m}\u001b[39;00m\u001b[33m'\u001b[39m\n\u001b[32m     12\u001b[39m \u001b[38;5;28;01melse\u001b[39;00m:\n\u001b[32m---> \u001b[39m\u001b[32m13\u001b[39m     processed_df = \u001b[43mcutoff_measurements_df\u001b[49m\u001b[43m(\u001b[49m\u001b[43mmeasurements\u001b[49m\u001b[43m,\u001b[49m\u001b[43m \u001b[49m\n\u001b[32m     14\u001b[39m \u001b[43m                                        \u001b[49m\u001b[43mpercent_cutoff\u001b[49m\u001b[43m=\u001b[49m\u001b[43mcutoff\u001b[49m\u001b[43m,\u001b[49m\n\u001b[32m     15\u001b[39m \u001b[43m                                        \u001b[49m\u001b[43mmin_pre_tests\u001b[49m\u001b[43m=\u001b[49m\u001b[43mmin_labs\u001b[49m\u001b[43m)\u001b[49m\n\u001b[32m     16\u001b[39m     method_str = \u001b[33mf\u001b[39m\u001b[33m'\u001b[39m\u001b[33mcutoff:\u001b[39m\u001b[38;5;132;01m{\u001b[39;00mcutoff\u001b[38;5;132;01m}\u001b[39;00m\u001b[33m_min:\u001b[39m\u001b[38;5;132;01m{\u001b[39;00mmin_labs\u001b[38;5;132;01m}\u001b[39;00m\u001b[33m'\u001b[39m\n\u001b[32m     18\u001b[39m setpoint_df = calc_setpoint_df(processed_df)\n",
      "\u001b[31mTypeError\u001b[39m: cutoff_measurements_df() got an unexpected keyword argument 'percent_cutoff'"
     ]
    }
   ],
   "source": [
    "def calculate_setpoints(measurements, method='cutoff', cutoff=0.80, index_year=None, \n",
    "                       min_gap=30, min_labs=5):\n",
    "    \n",
    "    if method == 'index_year':\n",
    "        if not index_year:\n",
    "            raise ValueError(\"index_year must be specified when using index_year method\")\n",
    "        processed_df = filter_measurements_df(measurements,\n",
    "                                           index_year=index_year, \n",
    "                                           day_gap=min_gap,\n",
    "                                           min_pre_tests=min_labs)\n",
    "        method_str = f'index:{index_year}_gap:{min_gap}_labs:{min_labs}'\n",
    "    else:\n",
    "        processed_df = cutoff_measurements_df(measurements, \n",
    "                                            percent_cutoff=cutoff,\n",
    "                                            min_pre_tests=min_labs)\n",
    "        method_str = f'cutoff:{cutoff}_min:{min_labs}'\n",
    "        \n",
    "    setpoint_df = calc_setpoint_df(processed_df)\n",
    "    output_path = f'../results/setpoints/setpoints_{method_str}.csv'\n",
    "    setpoint_df.to_csv(output_path)\n",
    "    return setpoint_df\n",
    "\n",
    "# Calculate setpoints using cutoff method\n",
    "setpoint_df_cutoff = calculate_setpoints(measurements, \n",
    "                                       method='cutoff',\n",
    "                                       cutoff=0.8,\n",
    "                                       min_gap=30, \n",
    "                                       min_labs=5)\n",
    "\n",
    "# # Calculate setpoints using index year method \n",
    "# setpoint_df_2018 = calculate_setpoints(measurements,\n",
    "#                                      method='index_year',\n",
    "#                                      index_year=2018,\n",
    "#                                      min_gap=30,\n",
    "#                                      min_labs=5)\n"
   ]
  },
  {
   "cell_type": "code",
   "execution_count": 12,
   "metadata": {},
   "outputs": [],
   "source": [
    "cutoff = 0.8\n",
    "min_labs = 5\n",
    "method_str = f'cutoff:{cutoff}_min:{min_labs}'\n",
    "output_path = f'../results/setpoints/setpoints_{method_str}.csv'\n",
    "setpoint_df_cutoff.to_csv(output_path)"
   ]
  }
 ],
 "metadata": {
  "kernelspec": {
   "display_name": "Python 3",
   "language": "python",
   "name": "python3"
  },
  "language_info": {
   "codemirror_mode": {
    "name": "ipython",
    "version": 3
   },
   "file_extension": ".py",
   "mimetype": "text/x-python",
   "name": "python",
   "nbconvert_exporter": "python",
   "pygments_lexer": "ipython3",
   "version": "3.13.2"
  }
 },
 "nbformat": 4,
 "nbformat_minor": 2
}
